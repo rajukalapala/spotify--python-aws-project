{
 "cells": [
  {
   "cell_type": "code",
   "execution_count": 2,
   "id": "f93ec1bf-58d5-4293-a1f5-e113b51395f5",
   "metadata": {},
   "outputs": [],
   "source": [
    "import spotipy\n",
    "from spotipy.oauth2 import SpotifyClientCredentials\n",
    "import pandas as pd"
   ]
  },
  {
   "cell_type": "code",
   "execution_count": 3,
   "id": "c29a34e5-84f9-49af-bb5b-fe2c90b14958",
   "metadata": {},
   "outputs": [],
   "source": [
    "client_credentials_manager=SpotifyClientCredentials(client_id=\"d00bc3dbbfa943a2a42d1a4253e8dcb5\",client_secret=\"04ac80b292ee4fb68c871bb7279e29ca\")"
   ]
  },
  {
   "cell_type": "code",
   "execution_count": 4,
   "id": "affaeddf-a8f8-4037-9c46-c361dabe3132",
   "metadata": {},
   "outputs": [],
   "source": [
    "sp = spotipy.Spotify(client_credentials_manager = client_credentials_manager)"
   ]
  },
  {
   "cell_type": "code",
   "execution_count": 5,
   "id": "f4246fec-5219-4267-96a2-4ee4709d2c34",
   "metadata": {},
   "outputs": [],
   "source": [
    "playlist_link = \"https://open.spotify.com/playlist/37i9dQZEVXbMDoHDwVN2tF\""
   ]
  },
  {
   "cell_type": "code",
   "execution_count": 6,
   "id": "e8fa32c1-ba1d-40a0-b57b-36ee0abe7c64",
   "metadata": {},
   "outputs": [],
   "source": [
    "playlist_URI = playlist_link.split(\"/\")[-1]"
   ]
  },
  {
   "cell_type": "code",
   "execution_count": 7,
   "id": "fce1a9f1-6fbc-48cf-933f-7e7dbdb2bc7f",
   "metadata": {},
   "outputs": [],
   "source": [
    "data = sp.playlist_tracks(playlist_URI)"
   ]
  },
  {
   "cell_type": "code",
   "execution_count": 8,
   "id": "911d1796-c0e4-4ba3-b034-0419b32b7ae8",
   "metadata": {},
   "outputs": [
    {
     "data": {
      "text/plain": [
       "50"
      ]
     },
     "execution_count": 8,
     "metadata": {},
     "output_type": "execute_result"
    }
   ],
   "source": [
    "len(data['items'])"
   ]
  },
  {
   "cell_type": "code",
   "execution_count": 42,
   "id": "e651e58e-4608-48a2-b443-154aa873650b",
   "metadata": {},
   "outputs": [
    {
     "data": {
      "text/plain": [
       "'54dZypaXHAIDzBe9ujAZ63'"
      ]
     },
     "execution_count": 42,
     "metadata": {},
     "output_type": "execute_result"
    }
   ],
   "source": [
    "data['items'][0]['track']['album']['id']"
   ]
  },
  {
   "cell_type": "code",
   "execution_count": 44,
   "id": "b53da843-2155-4c24-ad7e-c4f83cecfaa8",
   "metadata": {},
   "outputs": [
    {
     "data": {
      "text/plain": [
       "'Paint The Town Red'"
      ]
     },
     "execution_count": 44,
     "metadata": {},
     "output_type": "execute_result"
    }
   ],
   "source": [
    "data['items'][0]['track']['album']['name']"
   ]
  },
  {
   "cell_type": "code",
   "execution_count": 47,
   "id": "684596ce-252f-4bfd-84d6-8fe6325f18e7",
   "metadata": {},
   "outputs": [
    {
     "data": {
      "text/plain": [
       "'2023-08-04'"
      ]
     },
     "execution_count": 47,
     "metadata": {},
     "output_type": "execute_result"
    }
   ],
   "source": [
    "data['items'][0]['track']['album']['release_date']"
   ]
  },
  {
   "cell_type": "code",
   "execution_count": 49,
   "id": "fa07c2b8-152a-4eba-8c92-ecc20efa93dc",
   "metadata": {},
   "outputs": [
    {
     "data": {
      "text/plain": [
       "1"
      ]
     },
     "execution_count": 49,
     "metadata": {},
     "output_type": "execute_result"
    }
   ],
   "source": [
    "data['items'][0]['track']['album']['total_tracks']"
   ]
  },
  {
   "cell_type": "code",
   "execution_count": 51,
   "id": "f18e9309-3722-4797-9856-9a7310e4a941",
   "metadata": {},
   "outputs": [
    {
     "data": {
      "text/plain": [
       "'https://open.spotify.com/album/54dZypaXHAIDzBe9ujAZ63'"
      ]
     },
     "execution_count": 51,
     "metadata": {},
     "output_type": "execute_result"
    }
   ],
   "source": [
    "data['items'][0]['track']['album']['external_urls']['spotify']"
   ]
  },
  {
   "cell_type": "code",
   "execution_count": 57,
   "id": "889844b9-cf05-4045-9933-5c19161eed15",
   "metadata": {},
   "outputs": [
    {
     "data": {
      "text/plain": [
       "[{'album_id': '54dZypaXHAIDzBe9ujAZ63',\n",
       "  'name': 'Paint The Town Red',\n",
       "  'release_date': '2023-08-04',\n",
       "  'total_track': 1,\n",
       "  'url': 'https://open.spotify.com/album/54dZypaXHAIDzBe9ujAZ63'},\n",
       " {'album_id': '53985D8g3JcGBoULSOYYKX',\n",
       "  'name': 'Seven (feat. Latto)',\n",
       "  'release_date': '2023-07-14',\n",
       "  'total_track': 3,\n",
       "  'url': 'https://open.spotify.com/album/53985D8g3JcGBoULSOYYKX'},\n",
       " {'album_id': '1NAmidJlEaVgA3MpcPFYGq',\n",
       "  'name': 'Lover',\n",
       "  'release_date': '2019-08-23',\n",
       "  'total_track': 18,\n",
       "  'url': 'https://open.spotify.com/album/1NAmidJlEaVgA3MpcPFYGq'},\n",
       " {'album_id': '1xJHno7SmdVtZAtXbdbDZp',\n",
       "  'name': 'GUTS',\n",
       "  'release_date': '2023-09-08',\n",
       "  'total_track': 12,\n",
       "  'url': 'https://open.spotify.com/album/1xJHno7SmdVtZAtXbdbDZp'},\n",
       " {'album_id': '4DjJtllSDzVDBf7PYtsHaT',\n",
       "  'name': 'Slime You Out',\n",
       "  'release_date': '2023-09-15',\n",
       "  'total_track': 1,\n",
       "  'url': 'https://open.spotify.com/album/4DjJtllSDzVDBf7PYtsHaT'},\n",
       " {'album_id': '18ogtNq9F7DmMkNYO6Xb4k',\n",
       "  'name': 'Strangers',\n",
       "  'release_date': '2023-09-01',\n",
       "  'total_track': 1,\n",
       "  'url': 'https://open.spotify.com/album/18ogtNq9F7DmMkNYO6Xb4k'},\n",
       " {'album_id': '0FqAaUEyKCyUNFE1uQPZ7i',\n",
       "  'name': 'MAÑANA SERÁ BONITO (BICHOTA SEASON)',\n",
       "  'release_date': '2023-08-10',\n",
       "  'total_track': 9,\n",
       "  'url': 'https://open.spotify.com/album/0FqAaUEyKCyUNFE1uQPZ7i'},\n",
       " {'album_id': '3puAvurwvtvi1rodndIPW8',\n",
       "  'name': 'LA VIDA ES UNA',\n",
       "  'release_date': '2023-03-23',\n",
       "  'total_track': 23,\n",
       "  'url': 'https://open.spotify.com/album/3puAvurwvtvi1rodndIPW8'},\n",
       " {'album_id': '1xJHno7SmdVtZAtXbdbDZp',\n",
       "  'name': 'GUTS',\n",
       "  'release_date': '2023-09-08',\n",
       "  'total_track': 12,\n",
       "  'url': 'https://open.spotify.com/album/1xJHno7SmdVtZAtXbdbDZp'},\n",
       " {'album_id': '3UOV8XvCwMKaATRNXrYCjN',\n",
       "  'name': 'greedy',\n",
       "  'release_date': '2023-09-15',\n",
       "  'total_track': 1,\n",
       "  'url': 'https://open.spotify.com/album/3UOV8XvCwMKaATRNXrYCjN'},\n",
       " {'album_id': '3AafSrFIbJPH6BJHiJm1Cd',\n",
       "  'name': 'What Was I Made For? [From The Motion Picture \"Barbie\"]',\n",
       "  'release_date': '2023-07-13',\n",
       "  'total_track': 1,\n",
       "  'url': 'https://open.spotify.com/album/3AafSrFIbJPH6BJHiJm1Cd'},\n",
       " {'album_id': '5cH7FqB7JD5q1tJXJ7FHYu',\n",
       "  'name': 'Dance The Night (From Barbie The Album)',\n",
       "  'release_date': '2023-05-25',\n",
       "  'total_track': 1,\n",
       "  'url': 'https://open.spotify.com/album/5cH7FqB7JD5q1tJXJ7FHYu'},\n",
       " {'album_id': '07kam1Dks7GIucbSelfvyX',\n",
       "  'name': 'Columbia',\n",
       "  'release_date': '2023-07-07',\n",
       "  'total_track': 1,\n",
       "  'url': 'https://open.spotify.com/album/07kam1Dks7GIucbSelfvyX'},\n",
       " {'album_id': '5qmZefgh78fN3jsyPPlvuw',\n",
       "  'name': 'a Gift & a Curse',\n",
       "  'release_date': '2023-06-16',\n",
       "  'total_track': 15,\n",
       "  'url': 'https://open.spotify.com/album/5qmZefgh78fN3jsyPPlvuw'},\n",
       " {'album_id': '1xJHno7SmdVtZAtXbdbDZp',\n",
       "  'name': 'GUTS',\n",
       "  'release_date': '2023-09-08',\n",
       "  'total_track': 12,\n",
       "  'url': 'https://open.spotify.com/album/1xJHno7SmdVtZAtXbdbDZp'},\n",
       " {'album_id': '4jox3ip1I39DFC2B7R5qLH',\n",
       "  'name': 'GÉNESIS',\n",
       "  'release_date': '2023-06-29',\n",
       "  'total_track': 17,\n",
       "  'url': 'https://open.spotify.com/album/4jox3ip1I39DFC2B7R5qLH'},\n",
       " {'album_id': '78bpIziExqiI9qztvNFlQu',\n",
       "  'name': 'AM',\n",
       "  'release_date': '2013-09-09',\n",
       "  'total_track': 12,\n",
       "  'url': 'https://open.spotify.com/album/78bpIziExqiI9qztvNFlQu'},\n",
       " {'album_id': '6NcI39WPu4kY6Tul11nhSv',\n",
       "  'name': 'Daylight',\n",
       "  'release_date': '2023-04-14',\n",
       "  'total_track': 1,\n",
       "  'url': 'https://open.spotify.com/album/6NcI39WPu4kY6Tul11nhSv'},\n",
       " {'album_id': '1nrVofqDRs7cpWXJ49qTnP',\n",
       "  'name': 'SOS',\n",
       "  'release_date': '2022-12-08',\n",
       "  'total_track': 23,\n",
       "  'url': 'https://open.spotify.com/album/1nrVofqDRs7cpWXJ49qTnP'},\n",
       " {'album_id': '7ixOAT89NSsgUITYc5ByB5',\n",
       "  'name': 'Layover',\n",
       "  'release_date': '2023-09-08',\n",
       "  'total_track': 6,\n",
       "  'url': 'https://open.spotify.com/album/7ixOAT89NSsgUITYc5ByB5'},\n",
       " {'album_id': '5r36AJ6VOJtp00oxSkBZ5h',\n",
       "  'name': \"Harry's House\",\n",
       "  'release_date': '2022-05-20',\n",
       "  'total_track': 13,\n",
       "  'url': 'https://open.spotify.com/album/5r36AJ6VOJtp00oxSkBZ5h'},\n",
       " {'album_id': '6PbnGueEO6LGodPfvNldYf',\n",
       "  'name': 'Zach Bryan',\n",
       "  'release_date': '2023-08-25',\n",
       "  'total_track': 16,\n",
       "  'url': 'https://open.spotify.com/album/6PbnGueEO6LGodPfvNldYf'},\n",
       " {'album_id': '5l0QlaI3wdZpE7ggoO5Rwg',\n",
       "  'name': 'Sprinter',\n",
       "  'release_date': '2023-06-01',\n",
       "  'total_track': 1,\n",
       "  'url': 'https://open.spotify.com/album/5l0QlaI3wdZpE7ggoO5Rwg'},\n",
       " {'album_id': '3WLJmMZUeDOuERFAk1Mxs6',\n",
       "  'name': 'Jawan',\n",
       "  'release_date': '2023-09-05',\n",
       "  'total_track': 7,\n",
       "  'url': 'https://open.spotify.com/album/3WLJmMZUeDOuERFAk1Mxs6'},\n",
       " {'album_id': '5MU0RmBSpoSxOPYBfcobDc',\n",
       "  'name': 'Prada',\n",
       "  'release_date': '2023-08-11',\n",
       "  'total_track': 1,\n",
       "  'url': 'https://open.spotify.com/album/5MU0RmBSpoSxOPYBfcobDc'},\n",
       " {'album_id': '0HiZ8fNXwJOQcrf5iflrdz',\n",
       "  'name': 'Endless Summer Vacation',\n",
       "  'release_date': '2023-03-10',\n",
       "  'total_track': 13,\n",
       "  'url': 'https://open.spotify.com/album/0HiZ8fNXwJOQcrf5iflrdz'},\n",
       " {'album_id': '5O0zUvdnJr0RbWzLFneN2i',\n",
       "  'name': 'Popular (Music from the HBO Original Series)',\n",
       "  'release_date': '2023-06-02',\n",
       "  'total_track': 1,\n",
       "  'url': 'https://open.spotify.com/album/5O0zUvdnJr0RbWzLFneN2i'},\n",
       " {'album_id': '52PtAAvfi8ZGTRK5c700y4',\n",
       "  'name': 'Colmillo De Leche',\n",
       "  'release_date': '2023-05-19',\n",
       "  'total_track': 18,\n",
       "  'url': 'https://open.spotify.com/album/52PtAAvfi8ZGTRK5c700y4'},\n",
       " {'album_id': '2ODvWsOgouMbaA5xf0RkJe',\n",
       "  'name': 'Starboy',\n",
       "  'release_date': '2016-11-25',\n",
       "  'total_track': 18,\n",
       "  'url': 'https://open.spotify.com/album/2ODvWsOgouMbaA5xf0RkJe'},\n",
       " {'album_id': '1xJHno7SmdVtZAtXbdbDZp',\n",
       "  'name': 'GUTS',\n",
       "  'release_date': '2023-09-08',\n",
       "  'total_track': 12,\n",
       "  'url': 'https://open.spotify.com/album/1xJHno7SmdVtZAtXbdbDZp'},\n",
       " {'album_id': '5V729UqvhwNOcMejx0m55I',\n",
       "  'name': \"NewJeans 'Super Shy'\",\n",
       "  'release_date': '2023-07-07',\n",
       "  'total_track': 2,\n",
       "  'url': 'https://open.spotify.com/album/5V729UqvhwNOcMejx0m55I'},\n",
       " {'album_id': '4jtQUtS4ABgER3DnGfKJCv',\n",
       "  'name': 'Classy 101',\n",
       "  'release_date': '2023-03-31',\n",
       "  'total_track': 1,\n",
       "  'url': 'https://open.spotify.com/album/4jtQUtS4ABgER3DnGfKJCv'},\n",
       " {'album_id': '4x6cjOcVz44aiLSOHCLKPd',\n",
       "  'name': 'Que Onda',\n",
       "  'release_date': '2023-08-30',\n",
       "  'total_track': 1,\n",
       "  'url': 'https://open.spotify.com/album/4x6cjOcVz44aiLSOHCLKPd'},\n",
       " {'album_id': '2QJmrSgbdM35R67eoGQo4j',\n",
       "  'name': '1989',\n",
       "  'release_date': '2014-10-27',\n",
       "  'total_track': 13,\n",
       "  'url': 'https://open.spotify.com/album/2QJmrSgbdM35R67eoGQo4j'},\n",
       " {'album_id': '4AdZV63ycxFLF6Hcol0QnB',\n",
       "  'name': 'Starboy',\n",
       "  'release_date': '2016-11-24',\n",
       "  'total_track': 18,\n",
       "  'url': 'https://open.spotify.com/album/4AdZV63ycxFLF6Hcol0QnB'},\n",
       " {'album_id': '6aBVGuOUEuX18rHxyDWbti',\n",
       "  'name': 'La Bebe (Remix)',\n",
       "  'release_date': '2023-03-17',\n",
       "  'total_track': 2,\n",
       "  'url': 'https://open.spotify.com/album/6aBVGuOUEuX18rHxyDWbti'},\n",
       " {'album_id': '2QJmrSgbdM35R67eoGQo4j',\n",
       "  'name': '1989',\n",
       "  'release_date': '2014-10-27',\n",
       "  'total_track': 13,\n",
       "  'url': 'https://open.spotify.com/album/2QJmrSgbdM35R67eoGQo4j'},\n",
       " {'album_id': '07w0rG5TETcyihsEIZR3qG',\n",
       "  'name': 'SOS',\n",
       "  'release_date': '2022-12-09',\n",
       "  'total_track': 23,\n",
       "  'url': 'https://open.spotify.com/album/07w0rG5TETcyihsEIZR3qG'},\n",
       " {'album_id': '42D6fdFJ4SLnh4jXZJrsNa',\n",
       "  'name': 'Holanda',\n",
       "  'release_date': '2023-07-28',\n",
       "  'total_track': 1,\n",
       "  'url': 'https://open.spotify.com/album/42D6fdFJ4SLnh4jXZJrsNa'},\n",
       " {'album_id': '5i9lMMUZ1QZNsLEE3j50kT',\n",
       "  'name': 'El Comienzo',\n",
       "  'release_date': '2023-08-25',\n",
       "  'total_track': 12,\n",
       "  'url': 'https://open.spotify.com/album/5i9lMMUZ1QZNsLEE3j50kT'},\n",
       " {'album_id': '5gCcb5fsSb6w5K8SyJrgtB',\n",
       "  'name': 'WHERE SHE GOES',\n",
       "  'release_date': '2023-05-18',\n",
       "  'total_track': 1,\n",
       "  'url': 'https://open.spotify.com/album/5gCcb5fsSb6w5K8SyJrgtB'},\n",
       " {'album_id': '58ufpQsJ1DS5kq4hhzQDiI',\n",
       "  'name': 'Unorthodox Jukebox',\n",
       "  'release_date': '2012-12-07',\n",
       "  'total_track': 10,\n",
       "  'url': 'https://open.spotify.com/album/58ufpQsJ1DS5kq4hhzQDiI'},\n",
       " {'album_id': '4xkM0BwLM9H2IUcbYzpcBI',\n",
       "  'name': 'I Love You.',\n",
       "  'release_date': '2013-04-19',\n",
       "  'total_track': 11,\n",
       "  'url': 'https://open.spotify.com/album/4xkM0BwLM9H2IUcbYzpcBI'},\n",
       " {'album_id': '18NOKLkZETa4sWwLMIm0UZ',\n",
       "  'name': 'UTOPIA',\n",
       "  'release_date': '2023-07-28',\n",
       "  'total_track': 19,\n",
       "  'url': 'https://open.spotify.com/album/18NOKLkZETa4sWwLMIm0UZ'},\n",
       " {'album_id': '5CM66hwjlbZ06LhONWXOAs',\n",
       "  'name': 'Barbie World (with Aqua) [From Barbie The Album]',\n",
       "  'release_date': '2023-06-23',\n",
       "  'total_track': 1,\n",
       "  'url': 'https://open.spotify.com/album/5CM66hwjlbZ06LhONWXOAs'},\n",
       " {'album_id': '5aDEezKnOqyQo0qvTFhpkM',\n",
       "  'name': 'DESVELADO',\n",
       "  'release_date': '2023-04-28',\n",
       "  'total_track': 16,\n",
       "  'url': 'https://open.spotify.com/album/5aDEezKnOqyQo0qvTFhpkM'},\n",
       " {'album_id': '1wt2WZBZZ9GhM0AC61l7SS',\n",
       "  'name': 'Heeriye (feat. Arijit Singh)',\n",
       "  'release_date': '2023-07-25',\n",
       "  'total_track': 1,\n",
       "  'url': 'https://open.spotify.com/album/1wt2WZBZZ9GhM0AC61l7SS'},\n",
       " {'album_id': '0nayxjaX54Frd7GsZq6Pbs',\n",
       "  'name': 'Rave & Roses Ultra',\n",
       "  'release_date': '2023-04-27',\n",
       "  'total_track': 22,\n",
       "  'url': 'https://open.spotify.com/album/0nayxjaX54Frd7GsZq6Pbs'},\n",
       " {'album_id': '151w1FgRZfnKZA9FEcg9Z3',\n",
       "  'name': 'Midnights',\n",
       "  'release_date': '2022-10-21',\n",
       "  'total_track': 13,\n",
       "  'url': 'https://open.spotify.com/album/151w1FgRZfnKZA9FEcg9Z3'},\n",
       " {'album_id': '0FqAaUEyKCyUNFE1uQPZ7i',\n",
       "  'name': 'MAÑANA SERÁ BONITO (BICHOTA SEASON)',\n",
       "  'release_date': '2023-08-10',\n",
       "  'total_track': 9,\n",
       "  'url': 'https://open.spotify.com/album/0FqAaUEyKCyUNFE1uQPZ7i'}]"
      ]
     },
     "execution_count": 57,
     "metadata": {},
     "output_type": "execute_result"
    }
   ],
   "source": [
    "album_list = []\n",
    "for row in data['items']:\n",
    "    album_id = row['track']['album']['id']\n",
    "    album_name = row['track']['album']['name']\n",
    "    album_release_date = row['track']['album']['release_date']\n",
    "    album_total_tracks = row['track']['album']['total_tracks']\n",
    "    album_url = row['track']['album']['external_urls']['spotify']\n",
    "\n",
    "    album_element = {'album_id':album_id,'name':album_name,'release_date':album_release_date,'total_track':album_total_tracks,'url':album_url}\n",
    "    album_list.append(album_element)\n",
    "\n",
    "album_list\n"
   ]
  },
  {
   "cell_type": "code",
   "execution_count": 69,
   "id": "acf7e83b-d213-4adf-8755-cbb66c14d5bb",
   "metadata": {},
   "outputs": [
    {
     "data": {
      "text/plain": [
       "'5cj0lLjcoR7YOSnhnX0Po5'"
      ]
     },
     "execution_count": 69,
     "metadata": {},
     "output_type": "execute_result"
    }
   ],
   "source": [
    "data['items'][0]['track']['artists'][0]['id']"
   ]
  },
  {
   "cell_type": "code",
   "execution_count": 71,
   "id": "ed1577f2-67bc-46d2-8f90-d6a066fdad1e",
   "metadata": {},
   "outputs": [
    {
     "data": {
      "text/plain": [
       "'Doja Cat'"
      ]
     },
     "execution_count": 71,
     "metadata": {},
     "output_type": "execute_result"
    }
   ],
   "source": [
    "data['items'][0]['track']['artists'][0]['name']"
   ]
  },
  {
   "cell_type": "code",
   "execution_count": 73,
   "id": "b99a6f89-fd39-4d11-a820-f4aa8515ceb1",
   "metadata": {},
   "outputs": [
    {
     "data": {
      "text/plain": [
       "'https://api.spotify.com/v1/artists/5cj0lLjcoR7YOSnhnX0Po5'"
      ]
     },
     "execution_count": 73,
     "metadata": {},
     "output_type": "execute_result"
    }
   ],
   "source": [
    "data['items'][0]['track']['artists'][0]['href']"
   ]
  },
  {
   "cell_type": "code",
   "execution_count": 10,
   "id": "7ca8cb1a-6061-4ed1-8f3f-74030a40caa8",
   "metadata": {},
   "outputs": [
    {
     "data": {
      "text/plain": [
       "[{'artist_id': '5cj0lLjcoR7YOSnhnX0Po5',\n",
       "  'artist_name': 'Doja Cat',\n",
       "  'external_url': 'https://api.spotify.com/v1/artists/5cj0lLjcoR7YOSnhnX0Po5'},\n",
       " {'artist_id': '6HaGTQPmzraVmaVxvz6EUc',\n",
       "  'artist_name': 'Jung Kook',\n",
       "  'external_url': 'https://api.spotify.com/v1/artists/6HaGTQPmzraVmaVxvz6EUc'},\n",
       " {'artist_id': '3MdXrJWsbVzdn6fe5JYkSQ',\n",
       "  'artist_name': 'Latto',\n",
       "  'external_url': 'https://api.spotify.com/v1/artists/3MdXrJWsbVzdn6fe5JYkSQ'},\n",
       " {'artist_id': '06HL4z0CvFAxyc27GXpf02',\n",
       "  'artist_name': 'Taylor Swift',\n",
       "  'external_url': 'https://api.spotify.com/v1/artists/06HL4z0CvFAxyc27GXpf02'},\n",
       " {'artist_id': '1McMsnEElThX1knmY4oliG',\n",
       "  'artist_name': 'Olivia Rodrigo',\n",
       "  'external_url': 'https://api.spotify.com/v1/artists/1McMsnEElThX1knmY4oliG'},\n",
       " {'artist_id': '7uMDnSZyUYNBPLhPMNuaM2',\n",
       "  'artist_name': 'Kenya Grace',\n",
       "  'external_url': 'https://api.spotify.com/v1/artists/7uMDnSZyUYNBPLhPMNuaM2'},\n",
       " {'artist_id': '790FomKkXshlbRYZFtlgla',\n",
       "  'artist_name': 'KAROL G',\n",
       "  'external_url': 'https://api.spotify.com/v1/artists/790FomKkXshlbRYZFtlgla'},\n",
       " {'artist_id': '12GqGscKJx3aE4t07u7eVZ',\n",
       "  'artist_name': 'Peso Pluma',\n",
       "  'external_url': 'https://api.spotify.com/v1/artists/12GqGscKJx3aE4t07u7eVZ'},\n",
       " {'artist_id': '7iK8PXO48WeuP03g8YR51W',\n",
       "  'artist_name': 'Myke Towers',\n",
       "  'external_url': 'https://api.spotify.com/v1/artists/7iK8PXO48WeuP03g8YR51W'},\n",
       " {'artist_id': '3TVXtAsR1Inumwj472S9r4',\n",
       "  'artist_name': 'Drake',\n",
       "  'external_url': 'https://api.spotify.com/v1/artists/3TVXtAsR1Inumwj472S9r4'},\n",
       " {'artist_id': '7tYKF4w9nC0nq9CsPZTHyP',\n",
       "  'artist_name': 'SZA',\n",
       "  'external_url': 'https://api.spotify.com/v1/artists/7tYKF4w9nC0nq9CsPZTHyP'},\n",
       " {'artist_id': '45dkTj5sMRSjrmBSBeiHym',\n",
       "  'artist_name': 'Tate McRae',\n",
       "  'external_url': 'https://api.spotify.com/v1/artists/45dkTj5sMRSjrmBSBeiHym'},\n",
       " {'artist_id': '1McMsnEElThX1knmY4oliG',\n",
       "  'artist_name': 'Olivia Rodrigo',\n",
       "  'external_url': 'https://api.spotify.com/v1/artists/1McMsnEElThX1knmY4oliG'},\n",
       " {'artist_id': '6M2wZ9GZgrQXHCFfjv46we',\n",
       "  'artist_name': 'Dua Lipa',\n",
       "  'external_url': 'https://api.spotify.com/v1/artists/6M2wZ9GZgrQXHCFfjv46we'},\n",
       " {'artist_id': '6qqNVTkY8uBg9cP3Jd7DAH',\n",
       "  'artist_name': 'Billie Eilish',\n",
       "  'external_url': 'https://api.spotify.com/v1/artists/6qqNVTkY8uBg9cP3Jd7DAH'},\n",
       " {'artist_id': '52iwsT98xCoGgiGntTiR7K',\n",
       "  'artist_name': 'Quevedo',\n",
       "  'external_url': 'https://api.spotify.com/v1/artists/52iwsT98xCoGgiGntTiR7K'},\n",
       " {'artist_id': '2hlmm7s2ICUX0LVIhVFlZQ',\n",
       "  'artist_name': 'Gunna',\n",
       "  'external_url': 'https://api.spotify.com/v1/artists/2hlmm7s2ICUX0LVIhVFlZQ'},\n",
       " {'artist_id': '12GqGscKJx3aE4t07u7eVZ',\n",
       "  'artist_name': 'Peso Pluma',\n",
       "  'external_url': 'https://api.spotify.com/v1/artists/12GqGscKJx3aE4t07u7eVZ'},\n",
       " {'artist_id': '6Sbl0NT50roqWvy746MfVf',\n",
       "  'artist_name': 'Gabito Ballesteros',\n",
       "  'external_url': 'https://api.spotify.com/v1/artists/6Sbl0NT50roqWvy746MfVf'},\n",
       " {'artist_id': '7Gi6gjaWy3DxyilpF1a8Is',\n",
       "  'artist_name': 'Junior H',\n",
       "  'external_url': 'https://api.spotify.com/v1/artists/7Gi6gjaWy3DxyilpF1a8Is'},\n",
       " {'artist_id': '1McMsnEElThX1knmY4oliG',\n",
       "  'artist_name': 'Olivia Rodrigo',\n",
       "  'external_url': 'https://api.spotify.com/v1/artists/1McMsnEElThX1knmY4oliG'},\n",
       " {'artist_id': '7Ln80lUS6He07XvHI8qqHH',\n",
       "  'artist_name': 'Arctic Monkeys',\n",
       "  'external_url': 'https://api.spotify.com/v1/artists/7Ln80lUS6He07XvHI8qqHH'},\n",
       " {'artist_id': '33NVpKoXjItPwUJTMZIOiY',\n",
       "  'artist_name': 'David Kushner',\n",
       "  'external_url': 'https://api.spotify.com/v1/artists/33NVpKoXjItPwUJTMZIOiY'},\n",
       " {'artist_id': '7tYKF4w9nC0nq9CsPZTHyP',\n",
       "  'artist_name': 'SZA',\n",
       "  'external_url': 'https://api.spotify.com/v1/artists/7tYKF4w9nC0nq9CsPZTHyP'},\n",
       " {'artist_id': '6KImCVD70vtIoJWnq6nGn3',\n",
       "  'artist_name': 'Harry Styles',\n",
       "  'external_url': 'https://api.spotify.com/v1/artists/6KImCVD70vtIoJWnq6nGn3'},\n",
       " {'artist_id': '3JsHnjpbhX4SnySpvpa9DK',\n",
       "  'artist_name': 'V',\n",
       "  'external_url': 'https://api.spotify.com/v1/artists/3JsHnjpbhX4SnySpvpa9DK'},\n",
       " {'artist_id': '6Ip8FS7vWT1uKkJSweANQK',\n",
       "  'artist_name': 'Dave',\n",
       "  'external_url': 'https://api.spotify.com/v1/artists/6Ip8FS7vWT1uKkJSweANQK'},\n",
       " {'artist_id': '5H4yInM5zmHqpKIoMNAx4r',\n",
       "  'artist_name': 'Central Cee',\n",
       "  'external_url': 'https://api.spotify.com/v1/artists/5H4yInM5zmHqpKIoMNAx4r'},\n",
       " {'artist_id': '40ZNYROS4zLfyyBSs2PGe2',\n",
       "  'artist_name': 'Zach Bryan',\n",
       "  'external_url': 'https://api.spotify.com/v1/artists/40ZNYROS4zLfyyBSs2PGe2'},\n",
       " {'artist_id': '70kkdajctXSbqSMJbQO424',\n",
       "  'artist_name': 'Kacey Musgraves',\n",
       "  'external_url': 'https://api.spotify.com/v1/artists/70kkdajctXSbqSMJbQO424'},\n",
       " {'artist_id': '4zCH9qm4R2DADamUHMCa6O',\n",
       "  'artist_name': 'Anirudh Ravichander',\n",
       "  'external_url': 'https://api.spotify.com/v1/artists/4zCH9qm4R2DADamUHMCa6O'},\n",
       " {'artist_id': '4YRxDV8wJFPHPTeXepOstw',\n",
       "  'artist_name': 'Arijit Singh',\n",
       "  'external_url': 'https://api.spotify.com/v1/artists/4YRxDV8wJFPHPTeXepOstw'},\n",
       " {'artist_id': '19LIHDDSHBD5NyYHI3gpzB',\n",
       "  'artist_name': 'Shilpa Rao',\n",
       "  'external_url': 'https://api.spotify.com/v1/artists/19LIHDDSHBD5NyYHI3gpzB'},\n",
       " {'artist_id': '0m3D4grap8VFSzbJMqgNVk',\n",
       "  'artist_name': 'Kumaar',\n",
       "  'external_url': 'https://api.spotify.com/v1/artists/0m3D4grap8VFSzbJMqgNVk'},\n",
       " {'artist_id': '5wCmhq5J2hPwL2r0eKurxn',\n",
       "  'artist_name': 'cassö',\n",
       "  'external_url': 'https://api.spotify.com/v1/artists/5wCmhq5J2hPwL2r0eKurxn'},\n",
       " {'artist_id': '5KKpBU5eC2tJDzf0wmlRp2',\n",
       "  'artist_name': 'RAYE',\n",
       "  'external_url': 'https://api.spotify.com/v1/artists/5KKpBU5eC2tJDzf0wmlRp2'},\n",
       " {'artist_id': '5VadK1havLhK1OpKYsXv9y',\n",
       "  'artist_name': 'D-Block Europe',\n",
       "  'external_url': 'https://api.spotify.com/v1/artists/5VadK1havLhK1OpKYsXv9y'},\n",
       " {'artist_id': '5YGY8feqx7naU7z4HrwZM6',\n",
       "  'artist_name': 'Miley Cyrus',\n",
       "  'external_url': 'https://api.spotify.com/v1/artists/5YGY8feqx7naU7z4HrwZM6'},\n",
       " {'artist_id': '66ihevNkSYNzRAl44dx6jJ',\n",
       "  'artist_name': 'Carin Leon',\n",
       "  'external_url': 'https://api.spotify.com/v1/artists/66ihevNkSYNzRAl44dx6jJ'},\n",
       " {'artist_id': '1Xyo4u8uXC1ZmMpatF05PJ',\n",
       "  'artist_name': 'The Weeknd',\n",
       "  'external_url': 'https://api.spotify.com/v1/artists/1Xyo4u8uXC1ZmMpatF05PJ'},\n",
       " {'artist_id': '4tZwfgrHOc3mvqYlEYSvVi',\n",
       "  'artist_name': 'Daft Punk',\n",
       "  'external_url': 'https://api.spotify.com/v1/artists/4tZwfgrHOc3mvqYlEYSvVi'},\n",
       " {'artist_id': '2LRoIwlKmHjgvigdNGBHNo',\n",
       "  'artist_name': 'Feid',\n",
       "  'external_url': 'https://api.spotify.com/v1/artists/2LRoIwlKmHjgvigdNGBHNo'},\n",
       " {'artist_id': '3qsKSpcV3ncke3hw52JSMB',\n",
       "  'artist_name': 'Young Miko',\n",
       "  'external_url': 'https://api.spotify.com/v1/artists/3qsKSpcV3ncke3hw52JSMB'},\n",
       " {'artist_id': '06HL4z0CvFAxyc27GXpf02',\n",
       "  'artist_name': 'Taylor Swift',\n",
       "  'external_url': 'https://api.spotify.com/v1/artists/06HL4z0CvFAxyc27GXpf02'},\n",
       " {'artist_id': '1Xyo4u8uXC1ZmMpatF05PJ',\n",
       "  'artist_name': 'The Weeknd',\n",
       "  'external_url': 'https://api.spotify.com/v1/artists/1Xyo4u8uXC1ZmMpatF05PJ'},\n",
       " {'artist_id': '699OTQXzgjhIYAHMy9RyPD',\n",
       "  'artist_name': 'Playboi Carti',\n",
       "  'external_url': 'https://api.spotify.com/v1/artists/699OTQXzgjhIYAHMy9RyPD'},\n",
       " {'artist_id': '6tbjWDEIzxoDsBA1FuhfPW',\n",
       "  'artist_name': 'Madonna',\n",
       "  'external_url': 'https://api.spotify.com/v1/artists/6tbjWDEIzxoDsBA1FuhfPW'},\n",
       " {'artist_id': '06HL4z0CvFAxyc27GXpf02',\n",
       "  'artist_name': 'Taylor Swift',\n",
       "  'external_url': 'https://api.spotify.com/v1/artists/06HL4z0CvFAxyc27GXpf02'},\n",
       " {'artist_id': '6HvZYsbFfjnjFrWF950C9d',\n",
       "  'artist_name': 'NewJeans',\n",
       "  'external_url': 'https://api.spotify.com/v1/artists/6HvZYsbFfjnjFrWF950C9d'},\n",
       " {'artist_id': '6dLuQ5qXxIuWc5urxfIiZR',\n",
       "  'artist_name': 'Calle 24',\n",
       "  'external_url': 'https://api.spotify.com/v1/artists/6dLuQ5qXxIuWc5urxfIiZR'},\n",
       " {'artist_id': '2rmkQLzj0k4nZdQehOUByO',\n",
       "  'artist_name': 'Chino Pacas',\n",
       "  'external_url': 'https://api.spotify.com/v1/artists/2rmkQLzj0k4nZdQehOUByO'},\n",
       " {'artist_id': '0ys2OFYzWYB5hRDLCsBqxt',\n",
       "  'artist_name': 'Fuerza Regida',\n",
       "  'external_url': 'https://api.spotify.com/v1/artists/0ys2OFYzWYB5hRDLCsBqxt'},\n",
       " {'artist_id': '1NNRWkhwmcXRimFYSBpB1y',\n",
       "  'artist_name': 'Yng Lvcas',\n",
       "  'external_url': 'https://api.spotify.com/v1/artists/1NNRWkhwmcXRimFYSBpB1y'},\n",
       " {'artist_id': '12GqGscKJx3aE4t07u7eVZ',\n",
       "  'artist_name': 'Peso Pluma',\n",
       "  'external_url': 'https://api.spotify.com/v1/artists/12GqGscKJx3aE4t07u7eVZ'},\n",
       " {'artist_id': '6nVcHLIgY5pE2YCl8ubca1',\n",
       "  'artist_name': 'Jhayco',\n",
       "  'external_url': 'https://api.spotify.com/v1/artists/6nVcHLIgY5pE2YCl8ubca1'},\n",
       " {'artist_id': '0du5cEVh5yTK9QJze8zA0C',\n",
       "  'artist_name': 'Bruno Mars',\n",
       "  'external_url': 'https://api.spotify.com/v1/artists/0du5cEVh5yTK9QJze8zA0C'},\n",
       " {'artist_id': '1Xyo4u8uXC1ZmMpatF05PJ',\n",
       "  'artist_name': 'The Weeknd',\n",
       "  'external_url': 'https://api.spotify.com/v1/artists/1Xyo4u8uXC1ZmMpatF05PJ'},\n",
       " {'artist_id': '1McMsnEElThX1knmY4oliG',\n",
       "  'artist_name': 'Olivia Rodrigo',\n",
       "  'external_url': 'https://api.spotify.com/v1/artists/1McMsnEElThX1knmY4oliG'},\n",
       " {'artist_id': '6XkjpgcEsYab502Vr1bBeW',\n",
       "  'artist_name': 'Grupo Frontera',\n",
       "  'external_url': 'https://api.spotify.com/v1/artists/6XkjpgcEsYab502Vr1bBeW'},\n",
       " {'artist_id': '4q3ewBCX7sLwd24euuV69X',\n",
       "  'artist_name': 'Bad Bunny',\n",
       "  'external_url': 'https://api.spotify.com/v1/artists/4q3ewBCX7sLwd24euuV69X'},\n",
       " {'artist_id': '4q3ewBCX7sLwd24euuV69X',\n",
       "  'artist_name': 'Bad Bunny',\n",
       "  'external_url': 'https://api.spotify.com/v1/artists/4q3ewBCX7sLwd24euuV69X'},\n",
       " {'artist_id': '7tYKF4w9nC0nq9CsPZTHyP',\n",
       "  'artist_name': 'SZA',\n",
       "  'external_url': 'https://api.spotify.com/v1/artists/7tYKF4w9nC0nq9CsPZTHyP'},\n",
       " {'artist_id': '77SW9BnxLY8rJ0RciFqkHh',\n",
       "  'artist_name': 'The Neighbourhood',\n",
       "  'external_url': 'https://api.spotify.com/v1/artists/77SW9BnxLY8rJ0RciFqkHh'},\n",
       " {'artist_id': '0Y5tJX1MQlPlqiwlOH1tJY',\n",
       "  'artist_name': 'Travis Scott',\n",
       "  'external_url': 'https://api.spotify.com/v1/artists/0Y5tJX1MQlPlqiwlOH1tJY'},\n",
       " {'artist_id': '790FomKkXshlbRYZFtlgla',\n",
       "  'artist_name': 'KAROL G',\n",
       "  'external_url': 'https://api.spotify.com/v1/artists/790FomKkXshlbRYZFtlgla'},\n",
       " {'artist_id': '0XeEobZplHxzM9QzFQWLiR',\n",
       "  'artist_name': 'Eslabon Armado',\n",
       "  'external_url': 'https://api.spotify.com/v1/artists/0XeEobZplHxzM9QzFQWLiR'},\n",
       " {'artist_id': '12GqGscKJx3aE4t07u7eVZ',\n",
       "  'artist_name': 'Peso Pluma',\n",
       "  'external_url': 'https://api.spotify.com/v1/artists/12GqGscKJx3aE4t07u7eVZ'},\n",
       " {'artist_id': '0hCNtLu0JehylgoiP8L4Gh',\n",
       "  'artist_name': 'Nicki Minaj',\n",
       "  'external_url': 'https://api.spotify.com/v1/artists/0hCNtLu0JehylgoiP8L4Gh'},\n",
       " {'artist_id': '3LZZPxNDGDFVSIPqf4JuEf',\n",
       "  'artist_name': 'Ice Spice',\n",
       "  'external_url': 'https://api.spotify.com/v1/artists/3LZZPxNDGDFVSIPqf4JuEf'},\n",
       " {'artist_id': '6kBjAFKyd0he7LiA5GQ3Gz',\n",
       "  'artist_name': 'Aqua',\n",
       "  'external_url': 'https://api.spotify.com/v1/artists/6kBjAFKyd0he7LiA5GQ3Gz'},\n",
       " {'artist_id': '74OaRjmyh0XyRZsQQQ5l7c',\n",
       "  'artist_name': 'Jasleen Royal',\n",
       "  'external_url': 'https://api.spotify.com/v1/artists/74OaRjmyh0XyRZsQQQ5l7c'},\n",
       " {'artist_id': '4YRxDV8wJFPHPTeXepOstw',\n",
       "  'artist_name': 'Arijit Singh',\n",
       "  'external_url': 'https://api.spotify.com/v1/artists/4YRxDV8wJFPHPTeXepOstw'},\n",
       " {'artist_id': '3NHwwyb1coYa5cLyI72xSk',\n",
       "  'artist_name': 'Dulquer Salmaan',\n",
       "  'external_url': 'https://api.spotify.com/v1/artists/3NHwwyb1coYa5cLyI72xSk'},\n",
       " {'artist_id': '46pWGuE3dSwY3bMMXGBvVS',\n",
       "  'artist_name': 'Rema',\n",
       "  'external_url': 'https://api.spotify.com/v1/artists/46pWGuE3dSwY3bMMXGBvVS'},\n",
       " {'artist_id': '0C8ZW7ezQVs4URX5aX7Kqx',\n",
       "  'artist_name': 'Selena Gomez',\n",
       "  'external_url': 'https://api.spotify.com/v1/artists/0C8ZW7ezQVs4URX5aX7Kqx'},\n",
       " {'artist_id': '06HL4z0CvFAxyc27GXpf02',\n",
       "  'artist_name': 'Taylor Swift',\n",
       "  'external_url': 'https://api.spotify.com/v1/artists/06HL4z0CvFAxyc27GXpf02'}]"
      ]
     },
     "execution_count": 10,
     "metadata": {},
     "output_type": "execute_result"
    }
   ],
   "source": [
    "artist_list = []\n",
    "for row in data['items']:\n",
    "    for key,value in row.items():\n",
    "        if key == 'track':\n",
    "            for artists in value['artists']:\n",
    "                artist_dict = {'artist_id': artists['id'],'artist_name':artists['name'],'external_url':artists['href']}\n",
    "                artist_list.append(artist_dict)\n",
    "\n",
    "artist_list"
   ]
  },
  {
   "cell_type": "code",
   "execution_count": 98,
   "id": "8976f193-b6e9-4ad8-9a90-067a8781e272",
   "metadata": {},
   "outputs": [
    {
     "data": {
      "text/plain": [
       "'2IGMVunIBsBLtEQyoI1Mu7'"
      ]
     },
     "execution_count": 98,
     "metadata": {},
     "output_type": "execute_result"
    }
   ],
   "source": [
    "data['items'][0]['track']['id']"
   ]
  },
  {
   "cell_type": "code",
   "execution_count": 99,
   "id": "ba1867e7-d35e-4678-b3af-5331d98c5075",
   "metadata": {},
   "outputs": [
    {
     "data": {
      "text/plain": [
       "'Paint The Town Red'"
      ]
     },
     "execution_count": 99,
     "metadata": {},
     "output_type": "execute_result"
    }
   ],
   "source": [
    "data['items'][0]['track']['name']"
   ]
  },
  {
   "cell_type": "code",
   "execution_count": 101,
   "id": "95a70e6f-8981-42fd-8f10-6601dad2399d",
   "metadata": {},
   "outputs": [
    {
     "data": {
      "text/plain": [
       "231750"
      ]
     },
     "execution_count": 101,
     "metadata": {},
     "output_type": "execute_result"
    }
   ],
   "source": [
    "data['items'][0]['track']['duration_ms']"
   ]
  },
  {
   "cell_type": "code",
   "execution_count": 104,
   "id": "f6c9e90e-bd9e-4e7a-8165-321b1f515b8c",
   "metadata": {},
   "outputs": [
    {
     "data": {
      "text/plain": [
       "'https://open.spotify.com/track/2IGMVunIBsBLtEQyoI1Mu7'"
      ]
     },
     "execution_count": 104,
     "metadata": {},
     "output_type": "execute_result"
    }
   ],
   "source": [
    "data['items'][0]['track']['external_urls']['spotify']"
   ]
  },
  {
   "cell_type": "code",
   "execution_count": 105,
   "id": "0d79715f-6bc8-4bc3-be7d-f5f1e3c8012f",
   "metadata": {},
   "outputs": [
    {
     "data": {
      "text/plain": [
       "100"
      ]
     },
     "execution_count": 105,
     "metadata": {},
     "output_type": "execute_result"
    }
   ],
   "source": [
    "data['items'][0]['track']['popularity']"
   ]
  },
  {
   "cell_type": "code",
   "execution_count": 109,
   "id": "58da66e1-513d-49fa-9f84-09bcdd5a1239",
   "metadata": {},
   "outputs": [
    {
     "data": {
      "text/plain": [
       "'2023-09-20T08:37:37Z'"
      ]
     },
     "execution_count": 109,
     "metadata": {},
     "output_type": "execute_result"
    }
   ],
   "source": [
    "data['items'][0]['added_at']"
   ]
  },
  {
   "cell_type": "code",
   "execution_count": 114,
   "id": "9e4d411a-5ee3-49de-bda4-7e1a658ccb56",
   "metadata": {},
   "outputs": [
    {
     "data": {
      "text/plain": [
       "'54dZypaXHAIDzBe9ujAZ63'"
      ]
     },
     "execution_count": 114,
     "metadata": {},
     "output_type": "execute_result"
    }
   ],
   "source": [
    "data['items'][0]['track']['album']['id']"
   ]
  },
  {
   "cell_type": "code",
   "execution_count": 123,
   "id": "b9edb2ea-2e47-4e58-b9c6-acfc69545a16",
   "metadata": {},
   "outputs": [
    {
     "data": {
      "text/plain": [
       "'5cj0lLjcoR7YOSnhnX0Po5'"
      ]
     },
     "execution_count": 123,
     "metadata": {},
     "output_type": "execute_result"
    }
   ],
   "source": [
    "data['items'][0]['track']['album']['artists'][0]['id']"
   ]
  },
  {
   "cell_type": "code",
   "execution_count": 125,
   "id": "09c946ef-8106-42ce-979c-5641b0ec26c5",
   "metadata": {},
   "outputs": [
    {
     "name": "stdout",
     "output_type": "stream",
     "text": [
      "[{'song_id': '2IGMVunIBsBLtEQyoI1Mu7', 'song_name': 'Paint The Town Red', 'duration_ms': 231750, 'url': 'https://open.spotify.com/track/2IGMVunIBsBLtEQyoI1Mu7', 'popularity': 100, 'song_added': '2023-09-20T08:37:37Z', 'album_id': '54dZypaXHAIDzBe9ujAZ63', 'artist_id': '5cj0lLjcoR7YOSnhnX0Po5'}, {'song_id': '7x9aauaA9cu6tyfpHnqDLo', 'song_name': 'Seven (feat. Latto) (Explicit Ver.)', 'duration_ms': 184400, 'url': 'https://open.spotify.com/track/7x9aauaA9cu6tyfpHnqDLo', 'popularity': 98, 'song_added': '2023-09-20T08:37:37Z', 'album_id': '53985D8g3JcGBoULSOYYKX', 'artist_id': '6HaGTQPmzraVmaVxvz6EUc'}, {'song_id': '1BxfuPKGuaTgP7aM0Bbdwr', 'song_name': 'Cruel Summer', 'duration_ms': 178426, 'url': 'https://open.spotify.com/track/1BxfuPKGuaTgP7aM0Bbdwr', 'popularity': 99, 'song_added': '2023-09-20T08:37:37Z', 'album_id': '1NAmidJlEaVgA3MpcPFYGq', 'artist_id': '06HL4z0CvFAxyc27GXpf02'}, {'song_id': '1kuGVB7EU95pJObxwvfwKS', 'song_name': 'vampire', 'duration_ms': 219724, 'url': 'https://open.spotify.com/track/1kuGVB7EU95pJObxwvfwKS', 'popularity': 91, 'song_added': '2023-09-20T08:37:37Z', 'album_id': '1xJHno7SmdVtZAtXbdbDZp', 'artist_id': '1McMsnEElThX1knmY4oliG'}, {'song_id': '3RaCGXCiiMufRPoexXxGkV', 'song_name': 'Slime You Out (feat. SZA)', 'duration_ms': 310490, 'url': 'https://open.spotify.com/track/3RaCGXCiiMufRPoexXxGkV', 'popularity': 85, 'song_added': '2023-09-20T08:37:37Z', 'album_id': '4DjJtllSDzVDBf7PYtsHaT', 'artist_id': '3TVXtAsR1Inumwj472S9r4'}, {'song_id': '5mjYQaktjmjcMKcUIcqz4s', 'song_name': 'Strangers', 'duration_ms': 172964, 'url': 'https://open.spotify.com/track/5mjYQaktjmjcMKcUIcqz4s', 'popularity': 90, 'song_added': '2023-09-20T08:37:37Z', 'album_id': '18ogtNq9F7DmMkNYO6Xb4k', 'artist_id': '7uMDnSZyUYNBPLhPMNuaM2'}, {'song_id': '5RqSsdzTNPX1uzkmlHCFvK', 'song_name': 'QLONA', 'duration_ms': 172797, 'url': 'https://open.spotify.com/track/5RqSsdzTNPX1uzkmlHCFvK', 'popularity': 91, 'song_added': '2023-09-20T08:37:37Z', 'album_id': '0FqAaUEyKCyUNFE1uQPZ7i', 'artist_id': '790FomKkXshlbRYZFtlgla'}, {'song_id': '7ABLbnD53cQK00mhcaOUVG', 'song_name': 'LALA', 'duration_ms': 197920, 'url': 'https://open.spotify.com/track/7ABLbnD53cQK00mhcaOUVG', 'popularity': 98, 'song_added': '2023-09-20T08:37:37Z', 'album_id': '3puAvurwvtvi1rodndIPW8', 'artist_id': '7iK8PXO48WeuP03g8YR51W'}, {'song_id': '3IX0yuEVvDbnqUwMBB3ouC', 'song_name': 'bad idea right?', 'duration_ms': 184783, 'url': 'https://open.spotify.com/track/3IX0yuEVvDbnqUwMBB3ouC', 'popularity': 91, 'song_added': '2023-09-20T08:37:37Z', 'album_id': '1xJHno7SmdVtZAtXbdbDZp', 'artist_id': '1McMsnEElThX1knmY4oliG'}, {'song_id': '3rUGC1vUpkDG9CZFHMur1t', 'song_name': 'greedy', 'duration_ms': 131872, 'url': 'https://open.spotify.com/track/3rUGC1vUpkDG9CZFHMur1t', 'popularity': 83, 'song_added': '2023-09-20T08:37:37Z', 'album_id': '3UOV8XvCwMKaATRNXrYCjN', 'artist_id': '45dkTj5sMRSjrmBSBeiHym'}, {'song_id': '6wf7Yu7cxBSPrRlWeSeK0Q', 'song_name': 'What Was I Made For? [From The Motion Picture \"Barbie\"]', 'duration_ms': 222369, 'url': 'https://open.spotify.com/track/6wf7Yu7cxBSPrRlWeSeK0Q', 'popularity': 97, 'song_added': '2023-09-20T08:37:37Z', 'album_id': '3AafSrFIbJPH6BJHiJm1Cd', 'artist_id': '6qqNVTkY8uBg9cP3Jd7DAH'}, {'song_id': '1vYXt7VSjH9JIM5oRRo7vA', 'song_name': 'Dance The Night - From Barbie The Album', 'duration_ms': 176579, 'url': 'https://open.spotify.com/track/1vYXt7VSjH9JIM5oRRo7vA', 'popularity': 96, 'song_added': '2023-09-20T08:37:37Z', 'album_id': '5cH7FqB7JD5q1tJXJ7FHYu', 'artist_id': '6M2wZ9GZgrQXHCFfjv46we'}, {'song_id': '6XbtvPmIpyCbjuT0e8cQtp', 'song_name': 'Columbia', 'duration_ms': 186000, 'url': 'https://open.spotify.com/track/6XbtvPmIpyCbjuT0e8cQtp', 'popularity': 96, 'song_added': '2023-09-20T08:37:37Z', 'album_id': '07kam1Dks7GIucbSelfvyX', 'artist_id': '52iwsT98xCoGgiGntTiR7K'}, {'song_id': '4rXLjWdF2ZZpXCVTfWcshS', 'song_name': 'fukumean', 'duration_ms': 125040, 'url': 'https://open.spotify.com/track/4rXLjWdF2ZZpXCVTfWcshS', 'popularity': 95, 'song_added': '2023-09-20T08:37:37Z', 'album_id': '5qmZefgh78fN3jsyPPlvuw', 'artist_id': '2hlmm7s2ICUX0LVIhVFlZQ'}, {'song_id': '2gyxAWHebV7xPYVxqoi86f', 'song_name': 'get him back!', 'duration_ms': 211141, 'url': 'https://open.spotify.com/track/2gyxAWHebV7xPYVxqoi86f', 'popularity': 91, 'song_added': '2023-09-20T08:37:37Z', 'album_id': '1xJHno7SmdVtZAtXbdbDZp', 'artist_id': '1McMsnEElThX1knmY4oliG'}, {'song_id': '7mXuWTczZNxG5EDcjFEuJR', 'song_name': 'LADY GAGA', 'duration_ms': 212878, 'url': 'https://open.spotify.com/track/7mXuWTczZNxG5EDcjFEuJR', 'popularity': 94, 'song_added': '2023-09-20T08:37:37Z', 'album_id': '4jox3ip1I39DFC2B7R5qLH', 'artist_id': '12GqGscKJx3aE4t07u7eVZ'}, {'song_id': '5XeFesFbtLpXzIVDNQP22n', 'song_name': 'I Wanna Be Yours', 'duration_ms': 183956, 'url': 'https://open.spotify.com/track/5XeFesFbtLpXzIVDNQP22n', 'popularity': 94, 'song_added': '2023-09-20T08:37:37Z', 'album_id': '78bpIziExqiI9qztvNFlQu', 'artist_id': '7Ln80lUS6He07XvHI8qqHH'}, {'song_id': '1odExI7RdWc4BT515LTAwj', 'song_name': 'Daylight', 'duration_ms': 212953, 'url': 'https://open.spotify.com/track/1odExI7RdWc4BT515LTAwj', 'popularity': 95, 'song_added': '2023-09-20T08:37:37Z', 'album_id': '6NcI39WPu4kY6Tul11nhSv', 'artist_id': '33NVpKoXjItPwUJTMZIOiY'}, {'song_id': '1Qrg8KqiBpW07V7PNxwwwL', 'song_name': 'Kill Bill', 'duration_ms': 153946, 'url': 'https://open.spotify.com/track/1Qrg8KqiBpW07V7PNxwwwL', 'popularity': 91, 'song_added': '2023-09-20T08:37:37Z', 'album_id': '1nrVofqDRs7cpWXJ49qTnP', 'artist_id': '7tYKF4w9nC0nq9CsPZTHyP'}, {'song_id': '5h1BN75CEh8wdSwE1xrbSe', 'song_name': 'Slow Dancing', 'duration_ms': 187026, 'url': 'https://open.spotify.com/track/5h1BN75CEh8wdSwE1xrbSe', 'popularity': 92, 'song_added': '2023-09-20T08:37:37Z', 'album_id': '7ixOAT89NSsgUITYc5ByB5', 'artist_id': '3JsHnjpbhX4SnySpvpa9DK'}, {'song_id': '4Dvkj6JhhA12EX05fT7y2e', 'song_name': 'As It Was', 'duration_ms': 167303, 'url': 'https://open.spotify.com/track/4Dvkj6JhhA12EX05fT7y2e', 'popularity': 92, 'song_added': '2023-09-20T08:37:37Z', 'album_id': '5r36AJ6VOJtp00oxSkBZ5h', 'artist_id': '6KImCVD70vtIoJWnq6nGn3'}, {'song_id': '4KULAymBBJcPRpk1yO4dOG', 'song_name': 'I Remember Everything (feat. Kacey Musgraves)', 'duration_ms': 227195, 'url': 'https://open.spotify.com/track/4KULAymBBJcPRpk1yO4dOG', 'popularity': 91, 'song_added': '2023-09-20T08:37:37Z', 'album_id': '6PbnGueEO6LGodPfvNldYf', 'artist_id': '40ZNYROS4zLfyyBSs2PGe2'}, {'song_id': '2FDTHlrBguDzQkp7PVj16Q', 'song_name': 'Sprinter', 'duration_ms': 229133, 'url': 'https://open.spotify.com/track/2FDTHlrBguDzQkp7PVj16Q', 'popularity': 94, 'song_added': '2023-09-20T08:37:37Z', 'album_id': '5l0QlaI3wdZpE7ggoO5Rwg', 'artist_id': '6Ip8FS7vWT1uKkJSweANQK'}, {'song_id': '3xMHXmedL5Rvfxmiar9Ryv', 'song_name': 'Chaleya', 'duration_ms': 200373, 'url': 'https://open.spotify.com/track/3xMHXmedL5Rvfxmiar9Ryv', 'popularity': 76, 'song_added': '2023-09-20T08:37:37Z', 'album_id': '3WLJmMZUeDOuERFAk1Mxs6', 'artist_id': '4zCH9qm4R2DADamUHMCa6O'}, {'song_id': '59NraMJsLaMCVtwXTSia8i', 'song_name': 'Prada', 'duration_ms': 132359, 'url': 'https://open.spotify.com/track/59NraMJsLaMCVtwXTSia8i', 'popularity': 91, 'song_added': '2023-09-20T08:37:37Z', 'album_id': '5MU0RmBSpoSxOPYBfcobDc', 'artist_id': '5wCmhq5J2hPwL2r0eKurxn'}, {'song_id': '4DHcnVTT87F0zZhRPYmZ3B', 'song_name': 'Flowers', 'duration_ms': 200600, 'url': 'https://open.spotify.com/track/4DHcnVTT87F0zZhRPYmZ3B', 'popularity': 94, 'song_added': '2023-09-20T08:37:37Z', 'album_id': '0HiZ8fNXwJOQcrf5iflrdz', 'artist_id': '5YGY8feqx7naU7z4HrwZM6'}, {'song_id': '6WzRpISELf3YglGAh7TXcG', 'song_name': 'Popular (with Playboi Carti & Madonna) - Music from the HBO Original Series', 'duration_ms': 215466, 'url': 'https://open.spotify.com/track/6WzRpISELf3YglGAh7TXcG', 'popularity': 93, 'song_added': '2023-09-20T08:37:37Z', 'album_id': '5O0zUvdnJr0RbWzLFneN2i', 'artist_id': '1Xyo4u8uXC1ZmMpatF05PJ'}, {'song_id': '25OeKzcqakFPaJlXHPE5lm', 'song_name': 'Primera Cita', 'duration_ms': 186455, 'url': 'https://open.spotify.com/track/25OeKzcqakFPaJlXHPE5lm', 'popularity': 85, 'song_added': '2023-09-20T08:37:37Z', 'album_id': '52PtAAvfi8ZGTRK5c700y4', 'artist_id': '66ihevNkSYNzRAl44dx6jJ'}, {'song_id': '7MXVkk9YMctZqd1Srtv4MB', 'song_name': 'Starboy', 'duration_ms': 230453, 'url': 'https://open.spotify.com/track/7MXVkk9YMctZqd1Srtv4MB', 'popularity': 92, 'song_added': '2023-09-20T08:37:37Z', 'album_id': '2ODvWsOgouMbaA5xf0RkJe', 'artist_id': '1Xyo4u8uXC1ZmMpatF05PJ'}, {'song_id': '34sOdxWu9FljH84UXdRwu1', 'song_name': 'all-american bitch', 'duration_ms': 165833, 'url': 'https://open.spotify.com/track/34sOdxWu9FljH84UXdRwu1', 'popularity': 89, 'song_added': '2023-09-20T08:37:37Z', 'album_id': '1xJHno7SmdVtZAtXbdbDZp', 'artist_id': '1McMsnEElThX1knmY4oliG'}, {'song_id': '5sdQOyqq2IDhvmx2lHOpwd', 'song_name': 'Super Shy', 'duration_ms': 154666, 'url': 'https://open.spotify.com/track/5sdQOyqq2IDhvmx2lHOpwd', 'popularity': 93, 'song_added': '2023-09-20T08:37:37Z', 'album_id': '5V729UqvhwNOcMejx0m55I', 'artist_id': '6HvZYsbFfjnjFrWF950C9d'}, {'song_id': '6XSqqQIy7Lm7SnwxS4NrGx', 'song_name': 'Classy 101', 'duration_ms': 195986, 'url': 'https://open.spotify.com/track/6XSqqQIy7Lm7SnwxS4NrGx', 'popularity': 93, 'song_added': '2023-09-20T08:37:37Z', 'album_id': '4jtQUtS4ABgER3DnGfKJCv', 'artist_id': '2LRoIwlKmHjgvigdNGBHNo'}, {'song_id': '6uIIdjYTxxpWOyWuVXrKQO', 'song_name': 'Que Onda', 'duration_ms': 191466, 'url': 'https://open.spotify.com/track/6uIIdjYTxxpWOyWuVXrKQO', 'popularity': 89, 'song_added': '2023-09-20T08:37:37Z', 'album_id': '4x6cjOcVz44aiLSOHCLKPd', 'artist_id': '6dLuQ5qXxIuWc5urxfIiZR'}, {'song_id': '4lIxdJw6W3Fg4vUIYCB0S5', 'song_name': 'Style', 'duration_ms': 231000, 'url': 'https://open.spotify.com/track/4lIxdJw6W3Fg4vUIYCB0S5', 'popularity': 82, 'song_added': '2023-09-20T08:37:37Z', 'album_id': '2QJmrSgbdM35R67eoGQo4j', 'artist_id': '06HL4z0CvFAxyc27GXpf02'}, {'song_id': '2LBqCSwhJGcFQeTHMVGwy3', 'song_name': 'Die For You', 'duration_ms': 260253, 'url': 'https://open.spotify.com/track/2LBqCSwhJGcFQeTHMVGwy3', 'popularity': 89, 'song_added': '2023-09-20T08:37:37Z', 'album_id': '4AdZV63ycxFLF6Hcol0QnB', 'artist_id': '1Xyo4u8uXC1ZmMpatF05PJ'}, {'song_id': '2UW7JaomAMuX9pZrjVpHAU', 'song_name': 'La Bebe - Remix', 'duration_ms': 234352, 'url': 'https://open.spotify.com/track/2UW7JaomAMuX9pZrjVpHAU', 'popularity': 94, 'song_added': '2023-09-20T08:37:37Z', 'album_id': '6aBVGuOUEuX18rHxyDWbti', 'artist_id': '1NNRWkhwmcXRimFYSBpB1y'}, {'song_id': '1p80LdxRV74UKvL8gnD7ky', 'song_name': 'Blank Space', 'duration_ms': 231826, 'url': 'https://open.spotify.com/track/1p80LdxRV74UKvL8gnD7ky', 'popularity': 82, 'song_added': '2023-09-20T08:37:37Z', 'album_id': '2QJmrSgbdM35R67eoGQo4j', 'artist_id': '06HL4z0CvFAxyc27GXpf02'}, {'song_id': '4iZ4pt7kvcaH6Yo8UoZ4s2', 'song_name': 'Snooze', 'duration_ms': 201800, 'url': 'https://open.spotify.com/track/4iZ4pt7kvcaH6Yo8UoZ4s2', 'popularity': 91, 'song_added': '2023-09-20T08:37:37Z', 'album_id': '07w0rG5TETcyihsEIZR3qG', 'artist_id': '7tYKF4w9nC0nq9CsPZTHyP'}, {'song_id': '6irysuQyZWd7Bjj7ePiOs2', 'song_name': 'Holanda', 'duration_ms': 231693, 'url': 'https://open.spotify.com/track/6irysuQyZWd7Bjj7ePiOs2', 'popularity': 92, 'song_added': '2023-09-20T08:37:37Z', 'album_id': '42D6fdFJ4SLnh4jXZJrsNa', 'artist_id': '6nVcHLIgY5pE2YCl8ubca1'}, {'song_id': '2yzshFeBIwH8tWIqHEFLeD', 'song_name': 'un x100to', 'duration_ms': 194563, 'url': 'https://open.spotify.com/track/2yzshFeBIwH8tWIqHEFLeD', 'popularity': 81, 'song_added': '2023-09-20T08:37:37Z', 'album_id': '5i9lMMUZ1QZNsLEE3j50kT', 'artist_id': '6XkjpgcEsYab502Vr1bBeW'}, {'song_id': '7ro0hRteUMfnOioTFI5TG1', 'song_name': 'WHERE SHE GOES', 'duration_ms': 231704, 'url': 'https://open.spotify.com/track/7ro0hRteUMfnOioTFI5TG1', 'popularity': 94, 'song_added': '2023-09-20T08:37:37Z', 'album_id': '5gCcb5fsSb6w5K8SyJrgtB', 'artist_id': '4q3ewBCX7sLwd24euuV69X'}, {'song_id': '3w3y8KPTfNeOKPiqUTakBh', 'song_name': 'Locked out of Heaven', 'duration_ms': 233478, 'url': 'https://open.spotify.com/track/3w3y8KPTfNeOKPiqUTakBh', 'popularity': 90, 'song_added': '2023-09-20T08:37:37Z', 'album_id': '58ufpQsJ1DS5kq4hhzQDiI', 'artist_id': '0du5cEVh5yTK9QJze8zA0C'}, {'song_id': '2QjOHCTQ1Jl3zawyYOpxh6', 'song_name': 'Sweater Weather', 'duration_ms': 240400, 'url': 'https://open.spotify.com/track/2QjOHCTQ1Jl3zawyYOpxh6', 'popularity': 91, 'song_added': '2023-09-20T08:37:37Z', 'album_id': '4xkM0BwLM9H2IUcbYzpcBI', 'artist_id': '77SW9BnxLY8rJ0RciFqkHh'}, {'song_id': '6wsqVwoiVH2kde4k4KKAFU', 'song_name': 'I KNOW ?', 'duration_ms': 211582, 'url': 'https://open.spotify.com/track/6wsqVwoiVH2kde4k4KKAFU', 'popularity': 92, 'song_added': '2023-09-20T08:37:37Z', 'album_id': '18NOKLkZETa4sWwLMIm0UZ', 'artist_id': '0Y5tJX1MQlPlqiwlOH1tJY'}, {'song_id': '741UUVE2kuITl0c6zuqqbO', 'song_name': 'Barbie World (with Aqua) [From Barbie The Album]', 'duration_ms': 109750, 'url': 'https://open.spotify.com/track/741UUVE2kuITl0c6zuqqbO', 'popularity': 93, 'song_added': '2023-09-20T08:37:37Z', 'album_id': '5CM66hwjlbZ06LhONWXOAs', 'artist_id': '0hCNtLu0JehylgoiP8L4Gh'}, {'song_id': '3qQbCzHBycnDpGskqOWY0E', 'song_name': 'Ella Baila Sola', 'duration_ms': 165671, 'url': 'https://open.spotify.com/track/3qQbCzHBycnDpGskqOWY0E', 'popularity': 86, 'song_added': '2023-09-20T08:37:37Z', 'album_id': '5aDEezKnOqyQo0qvTFhpkM', 'artist_id': '0XeEobZplHxzM9QzFQWLiR'}, {'song_id': '5PUXKVVVQ74C3gl5vKy9Li', 'song_name': 'Heeriye (feat. Arijit Singh)', 'duration_ms': 194857, 'url': 'https://open.spotify.com/track/5PUXKVVVQ74C3gl5vKy9Li', 'popularity': 89, 'song_added': '2023-09-20T08:37:37Z', 'album_id': '1wt2WZBZZ9GhM0AC61l7SS', 'artist_id': '74OaRjmyh0XyRZsQQQ5l7c'}, {'song_id': '1s7oOCT8vauUh01PbJD6ps', 'song_name': 'Calm Down (with Selena Gomez)', 'duration_ms': 239317, 'url': 'https://open.spotify.com/track/1s7oOCT8vauUh01PbJD6ps', 'popularity': 80, 'song_added': '2023-09-20T08:37:37Z', 'album_id': '0nayxjaX54Frd7GsZq6Pbs', 'artist_id': '46pWGuE3dSwY3bMMXGBvVS'}, {'song_id': '0V3wPSX9ygBnCm8psDIegu', 'song_name': 'Anti-Hero', 'duration_ms': 200690, 'url': 'https://open.spotify.com/track/0V3wPSX9ygBnCm8psDIegu', 'popularity': 92, 'song_added': '2023-09-20T08:37:37Z', 'album_id': '151w1FgRZfnKZA9FEcg9Z3', 'artist_id': '06HL4z0CvFAxyc27GXpf02'}, {'song_id': '54zcJnb3tp9c5OVKREZ1Is', 'song_name': 'MI EX TENÍA RAZÓN', 'duration_ms': 154374, 'url': 'https://open.spotify.com/track/54zcJnb3tp9c5OVKREZ1Is', 'popularity': 87, 'song_added': '2023-09-20T08:37:37Z', 'album_id': '0FqAaUEyKCyUNFE1uQPZ7i', 'artist_id': '790FomKkXshlbRYZFtlgla'}]\n"
     ]
    }
   ],
   "source": [
    "song_list= []\n",
    "for row in data['items']:\n",
    "    song_id = row['track']['id']\n",
    "    song_name = row['track']['name']\n",
    "    song_duration = row['track']['duration_ms']\n",
    "    song_url = row['track']['external_urls']['spotify']\n",
    "    song_popularity = row['track']['popularity']\n",
    "    song_added = row['added_at']\n",
    "    album_id = row['track']['album']['id']\n",
    "    artist_id = row['track']['album']['artists'][0]['id']\n",
    "    song_element = {'song_id': song_id,'song_name': song_name, 'duration_ms':song_duration,'url':song_url,'popularity':song_popularity,\n",
    "                    'song_added':song_added, 'album_id':album_id,'artist_id':artist_id}\n",
    "    song_list.append(song_element)\n",
    "\n",
    "print(song_list)\n"
   ]
  },
  {
   "cell_type": "code",
   "execution_count": 142,
   "id": "42c68e37-3cdf-4c9a-beab-b35ac37c5d7e",
   "metadata": {},
   "outputs": [],
   "source": [
    "song_df= pd.DataFrame(song_list)"
   ]
  },
  {
   "cell_type": "code",
   "execution_count": 143,
   "id": "71f786f8-7124-45ca-b5c8-5d2a529ec2c5",
   "metadata": {},
   "outputs": [
    {
     "data": {
      "text/html": [
       "<div>\n",
       "<style scoped>\n",
       "    .dataframe tbody tr th:only-of-type {\n",
       "        vertical-align: middle;\n",
       "    }\n",
       "\n",
       "    .dataframe tbody tr th {\n",
       "        vertical-align: top;\n",
       "    }\n",
       "\n",
       "    .dataframe thead th {\n",
       "        text-align: right;\n",
       "    }\n",
       "</style>\n",
       "<table border=\"1\" class=\"dataframe\">\n",
       "  <thead>\n",
       "    <tr style=\"text-align: right;\">\n",
       "      <th></th>\n",
       "      <th>song_id</th>\n",
       "      <th>song_name</th>\n",
       "      <th>duration_ms</th>\n",
       "      <th>url</th>\n",
       "      <th>popularity</th>\n",
       "      <th>song_added</th>\n",
       "      <th>album_id</th>\n",
       "      <th>artist_id</th>\n",
       "    </tr>\n",
       "  </thead>\n",
       "  <tbody>\n",
       "    <tr>\n",
       "      <th>0</th>\n",
       "      <td>2IGMVunIBsBLtEQyoI1Mu7</td>\n",
       "      <td>Paint The Town Red</td>\n",
       "      <td>231750</td>\n",
       "      <td>https://open.spotify.com/track/2IGMVunIBsBLtEQ...</td>\n",
       "      <td>100</td>\n",
       "      <td>2023-09-20T08:37:37Z</td>\n",
       "      <td>54dZypaXHAIDzBe9ujAZ63</td>\n",
       "      <td>5cj0lLjcoR7YOSnhnX0Po5</td>\n",
       "    </tr>\n",
       "    <tr>\n",
       "      <th>1</th>\n",
       "      <td>7x9aauaA9cu6tyfpHnqDLo</td>\n",
       "      <td>Seven (feat. Latto) (Explicit Ver.)</td>\n",
       "      <td>184400</td>\n",
       "      <td>https://open.spotify.com/track/7x9aauaA9cu6tyf...</td>\n",
       "      <td>98</td>\n",
       "      <td>2023-09-20T08:37:37Z</td>\n",
       "      <td>53985D8g3JcGBoULSOYYKX</td>\n",
       "      <td>6HaGTQPmzraVmaVxvz6EUc</td>\n",
       "    </tr>\n",
       "    <tr>\n",
       "      <th>2</th>\n",
       "      <td>1BxfuPKGuaTgP7aM0Bbdwr</td>\n",
       "      <td>Cruel Summer</td>\n",
       "      <td>178426</td>\n",
       "      <td>https://open.spotify.com/track/1BxfuPKGuaTgP7a...</td>\n",
       "      <td>99</td>\n",
       "      <td>2023-09-20T08:37:37Z</td>\n",
       "      <td>1NAmidJlEaVgA3MpcPFYGq</td>\n",
       "      <td>06HL4z0CvFAxyc27GXpf02</td>\n",
       "    </tr>\n",
       "    <tr>\n",
       "      <th>3</th>\n",
       "      <td>1kuGVB7EU95pJObxwvfwKS</td>\n",
       "      <td>vampire</td>\n",
       "      <td>219724</td>\n",
       "      <td>https://open.spotify.com/track/1kuGVB7EU95pJOb...</td>\n",
       "      <td>91</td>\n",
       "      <td>2023-09-20T08:37:37Z</td>\n",
       "      <td>1xJHno7SmdVtZAtXbdbDZp</td>\n",
       "      <td>1McMsnEElThX1knmY4oliG</td>\n",
       "    </tr>\n",
       "    <tr>\n",
       "      <th>4</th>\n",
       "      <td>3RaCGXCiiMufRPoexXxGkV</td>\n",
       "      <td>Slime You Out (feat. SZA)</td>\n",
       "      <td>310490</td>\n",
       "      <td>https://open.spotify.com/track/3RaCGXCiiMufRPo...</td>\n",
       "      <td>85</td>\n",
       "      <td>2023-09-20T08:37:37Z</td>\n",
       "      <td>4DjJtllSDzVDBf7PYtsHaT</td>\n",
       "      <td>3TVXtAsR1Inumwj472S9r4</td>\n",
       "    </tr>\n",
       "  </tbody>\n",
       "</table>\n",
       "</div>"
      ],
      "text/plain": [
       "                  song_id                            song_name  duration_ms  \\\n",
       "0  2IGMVunIBsBLtEQyoI1Mu7                   Paint The Town Red       231750   \n",
       "1  7x9aauaA9cu6tyfpHnqDLo  Seven (feat. Latto) (Explicit Ver.)       184400   \n",
       "2  1BxfuPKGuaTgP7aM0Bbdwr                         Cruel Summer       178426   \n",
       "3  1kuGVB7EU95pJObxwvfwKS                              vampire       219724   \n",
       "4  3RaCGXCiiMufRPoexXxGkV            Slime You Out (feat. SZA)       310490   \n",
       "\n",
       "                                                 url  popularity  \\\n",
       "0  https://open.spotify.com/track/2IGMVunIBsBLtEQ...         100   \n",
       "1  https://open.spotify.com/track/7x9aauaA9cu6tyf...          98   \n",
       "2  https://open.spotify.com/track/1BxfuPKGuaTgP7a...          99   \n",
       "3  https://open.spotify.com/track/1kuGVB7EU95pJOb...          91   \n",
       "4  https://open.spotify.com/track/3RaCGXCiiMufRPo...          85   \n",
       "\n",
       "             song_added                album_id               artist_id  \n",
       "0  2023-09-20T08:37:37Z  54dZypaXHAIDzBe9ujAZ63  5cj0lLjcoR7YOSnhnX0Po5  \n",
       "1  2023-09-20T08:37:37Z  53985D8g3JcGBoULSOYYKX  6HaGTQPmzraVmaVxvz6EUc  \n",
       "2  2023-09-20T08:37:37Z  1NAmidJlEaVgA3MpcPFYGq  06HL4z0CvFAxyc27GXpf02  \n",
       "3  2023-09-20T08:37:37Z  1xJHno7SmdVtZAtXbdbDZp  1McMsnEElThX1knmY4oliG  \n",
       "4  2023-09-20T08:37:37Z  4DjJtllSDzVDBf7PYtsHaT  3TVXtAsR1Inumwj472S9r4  "
      ]
     },
     "execution_count": 143,
     "metadata": {},
     "output_type": "execute_result"
    }
   ],
   "source": [
    "song_df.head()"
   ]
  },
  {
   "cell_type": "code",
   "execution_count": 144,
   "id": "f61cc11f-dc0d-46f4-b93d-f3b347b498b5",
   "metadata": {},
   "outputs": [],
   "source": [
    "song_df['song_added'] = pd.to_datetime(song_df['song_added'])"
   ]
  },
  {
   "cell_type": "code",
   "execution_count": 156,
   "id": "10227f57-885c-4dbd-813e-62893c4be074",
   "metadata": {},
   "outputs": [],
   "source": [
    "song_df = song_df.drop_duplicates(subset=['song_id'])"
   ]
  },
  {
   "cell_type": "code",
   "execution_count": 145,
   "id": "992bcf96-5df6-4c1f-99a5-4790cc8b1382",
   "metadata": {},
   "outputs": [
    {
     "name": "stdout",
     "output_type": "stream",
     "text": [
      "<class 'pandas.core.frame.DataFrame'>\n",
      "RangeIndex: 50 entries, 0 to 49\n",
      "Data columns (total 8 columns):\n",
      " #   Column       Non-Null Count  Dtype              \n",
      "---  ------       --------------  -----              \n",
      " 0   song_id      50 non-null     object             \n",
      " 1   song_name    50 non-null     object             \n",
      " 2   duration_ms  50 non-null     int64              \n",
      " 3   url          50 non-null     object             \n",
      " 4   popularity   50 non-null     int64              \n",
      " 5   song_added   50 non-null     datetime64[ns, UTC]\n",
      " 6   album_id     50 non-null     object             \n",
      " 7   artist_id    50 non-null     object             \n",
      "dtypes: datetime64[ns, UTC](1), int64(2), object(5)\n",
      "memory usage: 3.2+ KB\n"
     ]
    }
   ],
   "source": [
    "song_df.info()"
   ]
  },
  {
   "cell_type": "code",
   "execution_count": 146,
   "id": "618816ba-1946-4151-8d80-65f76c48a5e7",
   "metadata": {},
   "outputs": [],
   "source": [
    "album_df= pd.DataFrame(album_list)"
   ]
  },
  {
   "cell_type": "code",
   "execution_count": 149,
   "id": "d4afe063-f2a8-4879-b2dc-0edaea8cc299",
   "metadata": {},
   "outputs": [
    {
     "data": {
      "text/html": [
       "<div>\n",
       "<style scoped>\n",
       "    .dataframe tbody tr th:only-of-type {\n",
       "        vertical-align: middle;\n",
       "    }\n",
       "\n",
       "    .dataframe tbody tr th {\n",
       "        vertical-align: top;\n",
       "    }\n",
       "\n",
       "    .dataframe thead th {\n",
       "        text-align: right;\n",
       "    }\n",
       "</style>\n",
       "<table border=\"1\" class=\"dataframe\">\n",
       "  <thead>\n",
       "    <tr style=\"text-align: right;\">\n",
       "      <th></th>\n",
       "      <th>album_id</th>\n",
       "      <th>name</th>\n",
       "      <th>release_date</th>\n",
       "      <th>total_track</th>\n",
       "      <th>url</th>\n",
       "    </tr>\n",
       "  </thead>\n",
       "  <tbody>\n",
       "    <tr>\n",
       "      <th>0</th>\n",
       "      <td>54dZypaXHAIDzBe9ujAZ63</td>\n",
       "      <td>Paint The Town Red</td>\n",
       "      <td>2023-08-04</td>\n",
       "      <td>1</td>\n",
       "      <td>https://open.spotify.com/album/54dZypaXHAIDzBe...</td>\n",
       "    </tr>\n",
       "    <tr>\n",
       "      <th>1</th>\n",
       "      <td>53985D8g3JcGBoULSOYYKX</td>\n",
       "      <td>Seven (feat. Latto)</td>\n",
       "      <td>2023-07-14</td>\n",
       "      <td>3</td>\n",
       "      <td>https://open.spotify.com/album/53985D8g3JcGBoU...</td>\n",
       "    </tr>\n",
       "    <tr>\n",
       "      <th>2</th>\n",
       "      <td>1NAmidJlEaVgA3MpcPFYGq</td>\n",
       "      <td>Lover</td>\n",
       "      <td>2019-08-23</td>\n",
       "      <td>18</td>\n",
       "      <td>https://open.spotify.com/album/1NAmidJlEaVgA3M...</td>\n",
       "    </tr>\n",
       "    <tr>\n",
       "      <th>3</th>\n",
       "      <td>1xJHno7SmdVtZAtXbdbDZp</td>\n",
       "      <td>GUTS</td>\n",
       "      <td>2023-09-08</td>\n",
       "      <td>12</td>\n",
       "      <td>https://open.spotify.com/album/1xJHno7SmdVtZAt...</td>\n",
       "    </tr>\n",
       "    <tr>\n",
       "      <th>4</th>\n",
       "      <td>4DjJtllSDzVDBf7PYtsHaT</td>\n",
       "      <td>Slime You Out</td>\n",
       "      <td>2023-09-15</td>\n",
       "      <td>1</td>\n",
       "      <td>https://open.spotify.com/album/4DjJtllSDzVDBf7...</td>\n",
       "    </tr>\n",
       "  </tbody>\n",
       "</table>\n",
       "</div>"
      ],
      "text/plain": [
       "                 album_id                 name release_date  total_track  \\\n",
       "0  54dZypaXHAIDzBe9ujAZ63   Paint The Town Red   2023-08-04            1   \n",
       "1  53985D8g3JcGBoULSOYYKX  Seven (feat. Latto)   2023-07-14            3   \n",
       "2  1NAmidJlEaVgA3MpcPFYGq                Lover   2019-08-23           18   \n",
       "3  1xJHno7SmdVtZAtXbdbDZp                 GUTS   2023-09-08           12   \n",
       "4  4DjJtllSDzVDBf7PYtsHaT        Slime You Out   2023-09-15            1   \n",
       "\n",
       "                                                 url  \n",
       "0  https://open.spotify.com/album/54dZypaXHAIDzBe...  \n",
       "1  https://open.spotify.com/album/53985D8g3JcGBoU...  \n",
       "2  https://open.spotify.com/album/1NAmidJlEaVgA3M...  \n",
       "3  https://open.spotify.com/album/1xJHno7SmdVtZAt...  \n",
       "4  https://open.spotify.com/album/4DjJtllSDzVDBf7...  "
      ]
     },
     "execution_count": 149,
     "metadata": {},
     "output_type": "execute_result"
    }
   ],
   "source": [
    "album_df.head()"
   ]
  },
  {
   "cell_type": "code",
   "execution_count": 148,
   "id": "a38a4d4e-b2d7-4754-aefc-2e14ebd55446",
   "metadata": {},
   "outputs": [],
   "source": [
    "album_df['release_date'] = pd.to_datetime(album_df['release_date'])"
   ]
  },
  {
   "cell_type": "code",
   "execution_count": 151,
   "id": "b630603c-686c-4991-8380-bae4b99f361d",
   "metadata": {},
   "outputs": [
    {
     "name": "stdout",
     "output_type": "stream",
     "text": [
      "<class 'pandas.core.frame.DataFrame'>\n",
      "RangeIndex: 50 entries, 0 to 49\n",
      "Data columns (total 5 columns):\n",
      " #   Column        Non-Null Count  Dtype         \n",
      "---  ------        --------------  -----         \n",
      " 0   album_id      50 non-null     object        \n",
      " 1   name          50 non-null     object        \n",
      " 2   release_date  50 non-null     datetime64[ns]\n",
      " 3   total_track   50 non-null     int64         \n",
      " 4   url           50 non-null     object        \n",
      "dtypes: datetime64[ns](1), int64(1), object(3)\n",
      "memory usage: 2.1+ KB\n"
     ]
    }
   ],
   "source": [
    "album_df.info()"
   ]
  },
  {
   "cell_type": "code",
   "execution_count": 153,
   "id": "3010457a-bde6-4daf-9cf1-7f4de4a7fb4e",
   "metadata": {},
   "outputs": [],
   "source": [
    "album_df = album_df.drop_duplicates(subset=['album_id'])"
   ]
  },
  {
   "cell_type": "code",
   "execution_count": 167,
   "id": "5efc7957-3cd1-42c9-a356-36d079ef981e",
   "metadata": {},
   "outputs": [
    {
     "data": {
      "text/plain": [
       "name\n",
       "Starboy                                                    2\n",
       "SOS                                                        2\n",
       "Paint The Town Red                                         1\n",
       "Prada                                                      1\n",
       "Popular (Music from the HBO Original Series)               1\n",
       "Colmillo De Leche                                          1\n",
       "NewJeans 'Super Shy'                                       1\n",
       "Classy 101                                                 1\n",
       "Que Onda                                                   1\n",
       "1989                                                       1\n",
       "La Bebe (Remix)                                            1\n",
       "Holanda                                                    1\n",
       "El Comienzo                                                1\n",
       "WHERE SHE GOES                                             1\n",
       "Unorthodox Jukebox                                         1\n",
       "I Love You.                                                1\n",
       "UTOPIA                                                     1\n",
       "Barbie World (with Aqua) [From Barbie The Album]           1\n",
       "DESVELADO                                                  1\n",
       "Heeriye (feat. Arijit Singh)                               1\n",
       "Rave & Roses Ultra                                         1\n",
       "Endless Summer Vacation                                    1\n",
       "Jawan                                                      1\n",
       "Seven (feat. Latto)                                        1\n",
       "Sprinter                                                   1\n",
       "Lover                                                      1\n",
       "GUTS                                                       1\n",
       "Slime You Out                                              1\n",
       "Strangers                                                  1\n",
       "MAÑANA SERÁ BONITO (BICHOTA SEASON)                        1\n",
       "LA VIDA ES UNA                                             1\n",
       "greedy                                                     1\n",
       "What Was I Made For? [From The Motion Picture \"Barbie\"]    1\n",
       "Dance The Night (From Barbie The Album)                    1\n",
       "Columbia                                                   1\n",
       "a Gift & a Curse                                           1\n",
       "GÉNESIS                                                    1\n",
       "AM                                                         1\n",
       "Daylight                                                   1\n",
       "Layover                                                    1\n",
       "Harry's House                                              1\n",
       "Zach Bryan                                                 1\n",
       "Midnights                                                  1\n",
       "Name: count, dtype: int64"
      ]
     },
     "execution_count": 167,
     "metadata": {},
     "output_type": "execute_result"
    }
   ],
   "source": [
    "album_df['name'].value_counts()"
   ]
  },
  {
   "cell_type": "code",
   "execution_count": 11,
   "id": "4823f9ea-f38d-4095-a5e8-d961c4d2dc33",
   "metadata": {},
   "outputs": [],
   "source": [
    "artist_df = pd.DataFrame.from_dict(artist_list)"
   ]
  },
  {
   "cell_type": "code",
   "execution_count": 12,
   "id": "84b61228-fe25-4c70-8bd9-a62c392f2fb4",
   "metadata": {},
   "outputs": [
    {
     "data": {
      "text/html": [
       "<div>\n",
       "<style scoped>\n",
       "    .dataframe tbody tr th:only-of-type {\n",
       "        vertical-align: middle;\n",
       "    }\n",
       "\n",
       "    .dataframe tbody tr th {\n",
       "        vertical-align: top;\n",
       "    }\n",
       "\n",
       "    .dataframe thead th {\n",
       "        text-align: right;\n",
       "    }\n",
       "</style>\n",
       "<table border=\"1\" class=\"dataframe\">\n",
       "  <thead>\n",
       "    <tr style=\"text-align: right;\">\n",
       "      <th></th>\n",
       "      <th>artist_id</th>\n",
       "      <th>artist_name</th>\n",
       "      <th>external_url</th>\n",
       "    </tr>\n",
       "  </thead>\n",
       "  <tbody>\n",
       "    <tr>\n",
       "      <th>0</th>\n",
       "      <td>5cj0lLjcoR7YOSnhnX0Po5</td>\n",
       "      <td>Doja Cat</td>\n",
       "      <td>https://api.spotify.com/v1/artists/5cj0lLjcoR7...</td>\n",
       "    </tr>\n",
       "    <tr>\n",
       "      <th>1</th>\n",
       "      <td>6HaGTQPmzraVmaVxvz6EUc</td>\n",
       "      <td>Jung Kook</td>\n",
       "      <td>https://api.spotify.com/v1/artists/6HaGTQPmzra...</td>\n",
       "    </tr>\n",
       "    <tr>\n",
       "      <th>2</th>\n",
       "      <td>3MdXrJWsbVzdn6fe5JYkSQ</td>\n",
       "      <td>Latto</td>\n",
       "      <td>https://api.spotify.com/v1/artists/3MdXrJWsbVz...</td>\n",
       "    </tr>\n",
       "    <tr>\n",
       "      <th>3</th>\n",
       "      <td>06HL4z0CvFAxyc27GXpf02</td>\n",
       "      <td>Taylor Swift</td>\n",
       "      <td>https://api.spotify.com/v1/artists/06HL4z0CvFA...</td>\n",
       "    </tr>\n",
       "    <tr>\n",
       "      <th>4</th>\n",
       "      <td>1McMsnEElThX1knmY4oliG</td>\n",
       "      <td>Olivia Rodrigo</td>\n",
       "      <td>https://api.spotify.com/v1/artists/1McMsnEElTh...</td>\n",
       "    </tr>\n",
       "  </tbody>\n",
       "</table>\n",
       "</div>"
      ],
      "text/plain": [
       "                artist_id     artist_name  \\\n",
       "0  5cj0lLjcoR7YOSnhnX0Po5        Doja Cat   \n",
       "1  6HaGTQPmzraVmaVxvz6EUc       Jung Kook   \n",
       "2  3MdXrJWsbVzdn6fe5JYkSQ           Latto   \n",
       "3  06HL4z0CvFAxyc27GXpf02    Taylor Swift   \n",
       "4  1McMsnEElThX1knmY4oliG  Olivia Rodrigo   \n",
       "\n",
       "                                        external_url  \n",
       "0  https://api.spotify.com/v1/artists/5cj0lLjcoR7...  \n",
       "1  https://api.spotify.com/v1/artists/6HaGTQPmzra...  \n",
       "2  https://api.spotify.com/v1/artists/3MdXrJWsbVz...  \n",
       "3  https://api.spotify.com/v1/artists/06HL4z0CvFA...  \n",
       "4  https://api.spotify.com/v1/artists/1McMsnEElTh...  "
      ]
     },
     "execution_count": 12,
     "metadata": {},
     "output_type": "execute_result"
    }
   ],
   "source": [
    "artist_df.head()"
   ]
  },
  {
   "cell_type": "code",
   "execution_count": 164,
   "id": "4497f760-610d-4227-8dc1-115a3e8adf72",
   "metadata": {},
   "outputs": [],
   "source": [
    "artist_df = artist_df.drop_duplicates(subset=['artist_id'])"
   ]
  },
  {
   "cell_type": "code",
   "execution_count": null,
   "id": "da49b689-0216-49ae-b5bb-7b579168b568",
   "metadata": {},
   "outputs": [],
   "source": []
  }
 ],
 "metadata": {
  "kernelspec": {
   "display_name": "Python 3 (ipykernel)",
   "language": "python",
   "name": "python3"
  },
  "language_info": {
   "codemirror_mode": {
    "name": "ipython",
    "version": 3
   },
   "file_extension": ".py",
   "mimetype": "text/x-python",
   "name": "python",
   "nbconvert_exporter": "python",
   "pygments_lexer": "ipython3",
   "version": "3.9.0"
  }
 },
 "nbformat": 4,
 "nbformat_minor": 5
}
